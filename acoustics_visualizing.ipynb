{
 "cells": [
  {
   "cell_type": "markdown",
   "source": [
    "# Audio Digital Signal Processing - EDA  \n",
    "<p>\n",
    "A foundational guide for manipulating and interpreting audio files\n",
    "</p>\n",
    "\n",
    "--- "
   ],
   "metadata": {
    "collapsed": false
   },
   "id": "381d938e70c63e49"
  },
  {
   "cell_type": "code",
   "execution_count": 2,
   "outputs": [],
   "source": [
    "import numpy as np\n",
    "import matplotlib.pyplot as plt\n",
    "import seaborn as sns\n",
    "\n",
    "import matplotlib.style as style \n",
    "from matplotlib import cm\n",
    "style.use('ggplot')\n",
    "sns.set_context('notebook')\n",
    "cmap = 'RdYlGn'\n",
    "sns.set_palette(cmap)\n",
    "\n",
    "import struct\n",
    "from glob import glob\n",
    "import librosa as lr\n",
    "import librosa.display\n",
    "\n",
    "from mpl_toolkits.mplot3d import axes3d\n",
    "import IPython.display as ipd\n",
    "\n",
    "%matplotlib inline"
   ],
   "metadata": {
    "collapsed": false,
    "ExecuteTime": {
     "end_time": "2023-09-09T19:47:02.913079Z",
     "start_time": "2023-09-09T19:47:02.856673Z"
    }
   },
   "id": "88611bc13988f6a0"
  },
  {
   "cell_type": "markdown",
   "source": [
    "___\n",
    "___\n",
    "### Individual clip analysis"
   ],
   "metadata": {
    "collapsed": false
   },
   "id": "97b64e53154d0a73"
  },
  {
   "cell_type": "code",
   "execution_count": 3,
   "outputs": [],
   "source": [
    "clips = [x for x in glob('./audio_files/*.wav')]"
   ],
   "metadata": {
    "collapsed": false,
    "ExecuteTime": {
     "end_time": "2023-09-09T19:47:06.794203Z",
     "start_time": "2023-09-09T19:47:06.786066Z"
    }
   },
   "id": "379121e4b733ad37"
  },
  {
   "cell_type": "code",
   "execution_count": 4,
   "outputs": [],
   "source": [
    "amp, sr = lr.load(clips[-1])"
   ],
   "metadata": {
    "collapsed": false,
    "ExecuteTime": {
     "end_time": "2023-09-09T19:47:09.438461Z",
     "start_time": "2023-09-09T19:47:07.445248Z"
    }
   },
   "id": "d6c44413bb5038f3"
  },
  {
   "cell_type": "code",
   "execution_count": null,
   "outputs": [
    {
     "name": "stderr",
     "output_type": "stream",
     "text": [
      "/Users/dom/Repos/DSP_Songs/venv/lib/python3.7/site-packages/ipykernel_launcher.py:2: FutureWarning: waveshow() keyword argument 'x_axis' has been renamed to 'axis' in version 0.10.0.\n",
      "\tThis alias will be removed in version 1.0.\n",
      "  \n"
     ]
    }
   ],
   "source": [
    "plt.figure(figsize=(14,7))\n",
    "lr.display.waveshow(amp, sr=sr, alpha=0.7, color='#7a1b4f', x_axis='s')\n",
    "plt.ylabel('Amplitude (B)')\n",
    "plt.xlabel('Time (s)')\n",
    "plt.title(clips[-1].split('/')[-1][:-4], fontsize=32)\n",
    "\n",
    "ipd.Audio(clips[-1])"
   ],
   "metadata": {
    "collapsed": false,
    "ExecuteTime": {
     "start_time": "2023-09-09T19:47:09.447439Z"
    }
   },
   "id": "75a528c48ffbc958"
  },
  {
   "cell_type": "code",
   "execution_count": null,
   "outputs": [],
   "source": [
    "clips"
   ],
   "metadata": {
    "collapsed": false,
    "ExecuteTime": {
     "start_time": "2023-09-09T19:45:55.986537Z"
    }
   },
   "id": "1853e7f2233b78cd"
  },
  {
   "cell_type": "code",
   "execution_count": null,
   "outputs": [],
   "source": [
    "track = clips[-1]\n",
    "\n",
    "amp, sr = lr.load(track)\n",
    "\n",
    "_, ax = plt.subplots(nrows=2, ncols=2, figsize=(24,14))\n",
    "lr.display.waveshow(amp, sr=sr, alpha=0.85, color='#7a1b4f', x_axis='s', ax=ax[0,0])\n",
    "ax[0,0].set_ylabel('Amplitude (B)')\n",
    "# ax1.set_xlabel('Time (s)')\n",
    "ax[0,0].set_title(track.split('/')[-1][:-4] + ' || Waveform', fontsize=22)\n",
    "ax[0,0].grid(linestyle='-', linewidth='0.5', color='#cccccc')\n",
    "\n",
    "\n",
    "X = librosa.stft(amp)  # , n_fft=)\n",
    "Xdb = librosa.amplitude_to_db(abs(X))\n",
    "\n",
    "librosa.display.specshow(Xdb, sr=sr, x_axis='s', y_axis='hz', cmap='magma', ax=ax[1,0]) \n",
    "#If to pring log of frequencies  \n",
    "ax[1,0].set_title(track.split('/')[-1][:-4] + ' || Spectrogram', fontsize=22)\n",
    "\n",
    "# plt.colorbar()\n",
    "ax[1,0].grid(linestyle='-', linewidth='0.5', color='#cccccc')\n",
    "\n",
    "librosa.display.specshow(Xdb, sr=sr, x_axis='s', y_axis='log', cmap='magma', ax=ax[1,1])\n",
    "ax[1,1].set_title(track.split('/')[-1][:-4] + ' || Logged Spectrogram', fontsize=22)\n",
    "\n",
    "ax[0,1].set_visible(False)\n",
    "ipd.Audio(track)"
   ],
   "metadata": {
    "collapsed": false,
    "ExecuteTime": {
     "end_time": "2023-09-09T19:45:55.994247Z",
     "start_time": "2023-09-09T19:45:55.993835Z"
    }
   },
   "id": "33450d31e2ed3602"
  },
  {
   "cell_type": "code",
   "execution_count": null,
   "outputs": [],
   "source": [
    "audio, sr = lr.load(clips[4])\n",
    "\n",
    "D = librosa.stft(audio)  # , n_fft=)\n",
    "S = librosa.amplitude_to_db(abs(D))\n",
    "# Dimensions of specrogram D - (f, t)\n",
    "# t: frames_to_samples\n",
    "# f: fft_frequencies\n",
    "# np.abs(D[..., f, t]) is the magnitude of frequency bin f at frame t, and\n",
    "# np.angle(D[..., f, t]) is the phase of frequency bin f at frame t\n",
    "\n",
    "S = np.swapaxes(np.swapaxes(S[:-1], 0, 1)[:-1], 0, 1)\n",
    "ts = np.arange(0, S.shape[1])  # .reshape((1,-1))\n",
    "freq = np.linspace(0, sr*S.shape[0], S.shape[0]).reshape((-1,1))\n",
    "\n",
    "print(f'ts: {ts.shape}\\nfreq: {freq.shape}')\n",
    "np.broadcast_shapes(ts.shape, freq.shape, S.shape)"
   ],
   "metadata": {
    "collapsed": false,
    "ExecuteTime": {
     "start_time": "2023-09-09T19:45:55.997191Z"
    }
   },
   "id": "980a836eb83724"
  },
  {
   "cell_type": "code",
   "execution_count": null,
   "outputs": [],
   "source": [
    "import plotly.graph_objects as go\n",
    "\n",
    "sh_0, sh_1 = S.shape\n",
    "x, y = np.linspace(0, S.shape[1], S.shape[1]), np.linspace(0, sr*S.shape[0], S.shape[0])\n",
    "fig = go.Figure(data=[go.Surface(z=S, x=x, y=y)])\n",
    "fig.update_layout(title='Clip name - ADD drop', autosize=False,\n",
    "                  scene ={            \n",
    "                    \"xaxis\": {\"nticks\": 11, \"title\": \"time\"},\n",
    "                    \"yaxis\": {\"title\": \"frequency\"},\n",
    "                    \"zaxis\": {\"nticks\": 10},\n",
    "                    'camera_eye': {\"x\": 0, \"y\": -1, \"z\": 1},\n",
    "                    \"aspectratio\": {\"x\": 0.8, \"y\": 0.6, \"z\": 0.4}\n",
    "                  },\n",
    "                    # dict(\n",
    "                    # xaxis_title='time',\n",
    "                    # yaxis_title='Frequency (Hz)',\n",
    "                    # zaxis_title='Magnitude (dB'),),\n",
    "                  width=500, height=500,\n",
    "                  margin=dict(l=65, r=50, b=65, t=90))\n",
    "fig.show()\n",
    "ipd.Audio(clips[-1])"
   ],
   "metadata": {
    "collapsed": false,
    "ExecuteTime": {
     "end_time": "2023-09-09T19:45:56.035246Z",
     "start_time": "2023-09-09T19:45:56.001730Z"
    }
   },
   "id": "dd98fd6834530877"
  },
  {
   "cell_type": "code",
   "execution_count": null,
   "outputs": [],
   "source": [],
   "metadata": {
    "collapsed": false,
    "ExecuteTime": {
     "start_time": "2023-09-09T19:45:56.004863Z"
    }
   },
   "id": "474a7f4ed5df6bb9"
  }
 ],
 "metadata": {
  "kernelspec": {
   "display_name": "Python 3",
   "language": "python",
   "name": "python3"
  },
  "language_info": {
   "codemirror_mode": {
    "name": "ipython",
    "version": 2
   },
   "file_extension": ".py",
   "mimetype": "text/x-python",
   "name": "python",
   "nbconvert_exporter": "python",
   "pygments_lexer": "ipython2",
   "version": "2.7.6"
  }
 },
 "nbformat": 4,
 "nbformat_minor": 5
}
