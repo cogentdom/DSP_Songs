{
 "cells": [
  {
   "cell_type": "code",
   "execution_count": null,
   "metadata": {},
   "outputs": [],
   "source": [
    "import numpy as np\n",
    "import pyaudio\n",
    "import struct\n",
    "import matplotlib\n",
    "matplotlib.use('TkAgg')\n",
    "import matplotlib.pyplot as plt\n",
    "# %matplotlib inline\n",
    "# %matplotlib notebook\n",
    "# %matplotlib qt"
   ]
  },
  {
   "cell_type": "code",
   "execution_count": null,
   "metadata": {},
   "outputs": [],
   "source": [
    "pa = pyaudio.PyAudio()\n",
    "pa.get_default_host_api_info()\n",
    "\n",
    "\n",
    "info = pa.get_host_api_info_by_index(0)\n",
    "numdevices = info.get('deviceCount')\n",
    "for i in range(0, numdevices):\n",
    "    if (pa.get_device_info_by_host_api_device_index(0, i).get('maxInputChannels')) > -1:\n",
    "        print(\"Input Device id \", i, \" - \", pa.get_device_info_by_host_api_device_index(0, i).get('name'))"
   ]
  },
  {
   "cell_type": "code",
   "execution_count": null,
   "metadata": {},
   "outputs": [],
   "source": [
    "info = pa.get_host_api_info_by_index(0)\n",
    "pa.get_device_info_by_host_api_device_index(0, 5)"
   ]
  },
  {
   "cell_type": "code",
   "execution_count": null,
   "metadata": {},
   "outputs": [],
   "source": []
  },
  {
   "cell_type": "code",
   "execution_count": null,
   "metadata": {},
   "outputs": [],
   "source": [
    "CHUNK = 1024 * 4\n",
    "FORMAT = pyaudio.paInt16\n",
    "CHANNELS = 1\n",
    "RATE = 44100 # in Hz\n",
    "\n",
    "\n",
    "stream = pa.open(\n",
    "    format = FORMAT,\n",
    "    channels = CHANNELS,\n",
    "    rate = RATE,\n",
    "    input = True,\n",
    "    output = True,\n",
    "    frames_per_buffer = CHUNK)\n",
    "\n",
    "data = stream.read(CHUNK)\n",
    "data_int = struct.unpack(str(2 * CHUNK) + 'B', data)\n",
    "\n",
    "fig, ax = plt.subplots()\n",
    "\n",
    "ax.plot(data_int, '-')\n",
    "fig.show()\n",
    "\n",
    "data.close()\n",
    "pa.terminate()\n",
    "# fig, (ax, ax1) = plt.subplots(2)\n",
    "# x_fft = np.linspace(0, RATE, CHUNK)\n",
    "# x = np.arange(0, 2*CHUNK, 2)\n",
    "# line, = ax.plot(x, np.random.rand(CHUNK), 'r')\n",
    "# line_fft, = ax1.semilogx(x_fft, np.random.rand(CHUNK), 'b')\n",
    "# ax.set_ylim(-32000, 32000)\n",
    "# ax.set_xlim(0, CHUNK)\n",
    "# ax1.set_ylim(0, 1)\n",
    "# ax1.set_xlim(20, RATE/2)\n",
    "# fig.show()\n",
    "\n",
    "\n",
    "# while 1:\n",
    "#     data = stream.read(CHUNK)\n",
    "#     dataInt = struct.unpack(str(CHUNK) + 'h', data)\n",
    "#     line.set_ydata(dataInt)\n",
    "#     line_fft.set_ydata(np.abs(np.fft.fft(dataInt))*2/(33000* CHUNK))\n",
    "#     fig.canvas.draw()\n",
    "#     fig.canvas.flush_events()"
   ]
  },
  {
   "cell_type": "code",
   "execution_count": null,
   "metadata": {},
   "outputs": [],
   "source": []
  }
 ],
 "metadata": {
  "kernelspec": {
   "display_name": "Python 3",
   "language": "python",
   "name": "python3"
  },
  "language_info": {
   "codemirror_mode": {
    "name": "ipython",
    "version": 3
   },
   "file_extension": ".py",
   "mimetype": "text/x-python",
   "name": "python",
   "nbconvert_exporter": "python",
   "pygments_lexer": "ipython3",
   "version": "3.7.9"
  }
 },
 "nbformat": 4,
 "nbformat_minor": 4
}
